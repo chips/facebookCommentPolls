{
 "cells": [
  {
   "cell_type": "markdown",
   "metadata": {},
   "source": [
    "# An attempt to look at the basic sentiments for facebook comments on a post\n",
    "\n",
    "This is an experiment, and can actually not be used in real life, as facebooks regulations do not allow for this. So think of it as inspiration, not something that you nor I can actually run and use... unfortunately. \n",
    "\n",
    "Anyhow, the reason I wanted to do this was to see how a politicians post, asking people if we should allow immigigants into the country, went. I had a feeling he wouldnt get the support he was aiming for. \n"
   ]
  },
  {
   "cell_type": "code",
   "execution_count": null,
   "metadata": {},
   "outputs": [],
   "source": [
    "#Load what's needed\n",
    "import pandas as pd\n",
    "import selenium\n",
    "import time\n",
    "from selenium import webdriver\n",
    "import matplotlib.pyplot as plt\n",
    "import seaborn as sns\n",
    "import numpy as np\n",
    "\n",
    "%matplotlib inline\n",
    "sns.set()\n"
   ]
  },
  {
   "cell_type": "markdown",
   "metadata": {},
   "source": [
    "First we need to connect to chrome using the webdriver and selenium."
   ]
  },
  {
   "cell_type": "code",
   "execution_count": null,
   "metadata": {},
   "outputs": [],
   "source": [
    "# Connect to chrome \n",
    "driver = webdriver.Chrome('C:\\\\Users\\\\Peter\\\\AppData\\\\Local\\\\Temp\\\\Rar$EXa19652.30181\\\\chromedriver.exe')  # Optional argument, if not specified will search path.\n",
    "driver.get('http://www.google.com/xhtml');\n",
    "time.sleep(5) # Let the user actually see something!\n"
   ]
  },
  {
   "cell_type": "markdown",
   "metadata": {},
   "source": [
    "Next up, we would have to go to the page where we want to extract the comments, and start by clicking to show more comments. The xpath and class names might have to be changed as I am not certain of how the facebook classes etc actually work. \n",
    "In order to get all the comments, we need to keep clicking view more comments. Rumour has it that you can 'only' expand to 5.000 comments, so i've added a stop for that."
   ]
  },
  {
   "cell_type": "code",
   "execution_count": null,
   "metadata": {},
   "outputs": [],
   "source": [
    "#Keep clicking to show more comments while still possible\n",
    "i = 0\n",
    "max_comments = 5000\n",
    "shown = 0\n",
    "total = 10\n",
    "print(\"starting with {} shown and {} total\".format(shown, total))\n",
    "while shown < total :\n",
    "    if total > 5000:\n",
    "        total = 5000\n",
    "    for element in driver.find_elements_by_class_name('_3bu3._293g'):\n",
    "        print(element.text)\n",
    "        shown= int(element.text.split(' of ')[0].replace(',', ''))\n",
    "        total= int(element.text.split(' of ')[1].replace(',', ''))\n",
    "        print(shown, total)\n",
    "        # click submit button\n",
    "        submit_button = driver.find_elements_by_xpath('//*[@id=\"u_fetchstream_10_13\"]/div/div[3]/div[3]/div/a')[0]\n",
    "        submit_button.click()\n",
    "\n",
    "print(\"now with {} shown and {} total\".format(shown, total))"
   ]
  },
  {
   "cell_type": "markdown",
   "metadata": {},
   "source": [
    "Time to grab all the comments and put them in a dataframe, and then save them. Again, the class name might differ..."
   ]
  },
  {
   "cell_type": "code",
   "execution_count": null,
   "metadata": {},
   "outputs": [],
   "source": [
    "df = pd.DataFrame(columns=['Comment', 'html'])\n",
    "i = 0\n",
    "for element in driver.find_elements_by_class_name('_6qw3'):\n",
    "    df = df.append({'Comment': element.text, 'html':element.get_attribute('innerHTML') }, ignore_index=True)\n",
    "    i+=1\n",
    "    print(i)\n",
    "df.head()\n",
    "df.to_pickle('dataset.pkl') \n",
    "df.to_csv('dataset.csv')"
   ]
  },
  {
   "cell_type": "markdown",
   "metadata": {},
   "source": [
    "And time to have a quick look. Just checking if the text has a 'Ja' (Yes) or 'Nej' (No) in it and then using that to put the comments in buckets so we can draw a graph"
   ]
  },
  {
   "cell_type": "code",
   "execution_count": null,
   "metadata": {},
   "outputs": [],
   "source": [
    "df_raw = pd.read_pickle('dataset.pkl')\n",
    "df_raw['lower'] = df_raw['Comment'].str.lower()\n",
    "df_raw['yes'] = df_raw['lower'].str.contains('ja')\n",
    "df_raw['no'] = df_raw['lower'].str.contains('nej')\n",
    "df_raw['answer'] = np.where(df_raw['no'] == True, 0, 2)\n",
    "df_raw['answer'] = np.where(df_raw['yes'] == True, 1, df_raw['answer'])\n",
    "df_raw.sample(20)"
   ]
  },
  {
   "cell_type": "markdown",
   "metadata": {},
   "source": [
    "And then it's time to draw a quick graph...."
   ]
  },
  {
   "cell_type": "code",
   "execution_count": null,
   "metadata": {},
   "outputs": [],
   "source": [
    "bins = (np.arange(0,4,1))\n",
    "plt.hist(df_raw['answer'], bins=bins);\n",
    "plt.xticks((0.5,1.5,2.5),('No', 'Yes','Not Clear'));\n",
    "plt.savefig('output.png')"
   ]
  }
 ],
 "metadata": {
  "kernelspec": {
   "display_name": "Python 3",
   "language": "python",
   "name": "python3"
  },
  "language_info": {
   "codemirror_mode": {
    "name": "ipython",
    "version": 3
   },
   "file_extension": ".py",
   "mimetype": "text/x-python",
   "name": "python",
   "nbconvert_exporter": "python",
   "pygments_lexer": "ipython3",
   "version": "3.7.3"
  }
 },
 "nbformat": 4,
 "nbformat_minor": 2
}
